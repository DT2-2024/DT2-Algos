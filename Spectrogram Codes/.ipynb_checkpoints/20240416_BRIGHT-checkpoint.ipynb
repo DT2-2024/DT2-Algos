{
 "cells": [
  {
   "cell_type": "markdown",
   "metadata": {
    "id": "eD4yOvgBUwFB"
   },
   "source": [
    "DO NOT CHANGE THIS FILE. JUST MAKE COPIES."
   ]
  },
  {
   "cell_type": "code",
   "execution_count": null,
   "metadata": {
    "colab": {
     "base_uri": "https://localhost:8080/"
    },
    "executionInfo": {
     "elapsed": 32488,
     "status": "ok",
     "timestamp": 1712270500259,
     "user": {
      "displayName": "Lacta Learn",
      "userId": "09164211642579531742"
     },
     "user_tz": 240
    },
    "id": "d3aSZxQTUZAs",
    "outputId": "36d106fd-a726-4faf-ddaa-2876149dfb71"
   },
   "outputs": [
    {
     "name": "stdout",
     "output_type": "stream",
     "text": [
      "Mounted at /content/drive\n"
     ]
    }
   ],
   "source": [
    "from google.colab import drive\n",
    "drive.mount('/content/drive')"
   ]
  },
  {
   "cell_type": "code",
   "execution_count": null,
   "metadata": {
    "id": "FP32aC3LUjZM"
   },
   "outputs": [],
   "source": [
    "import numpy as np\n",
    "import pandas as pd\n",
    "import tensorflow as tf\n",
    "import matplotlib.pyplot as plt\n",
    "import os\n",
    "import wave\n",
    "import pylab\n",
    "from pathlib import Path\n",
    "from scipy import signal\n",
    "from scipy.io import wavfile\n",
    "from sklearn.metrics import confusion_matrix\n",
    "import itertools\n",
    "\n",
    "# Set paths to input and output data\n",
    "INPUT_DIR = '/content/drive/My Drive/DT2_2023/Spring 2024/Audio_models/audio_input/ TODO: enter your audio input folder here'\n",
    "OUTPUT_DIR = '/content/drive/My Drive/DT2_2023/Spring 2024/Audio_models/spectro_output/ TODO: enter your spectrogram output folder here'"
   ]
  },
  {
   "cell_type": "code",
   "execution_count": null,
   "metadata": {
    "colab": {
     "base_uri": "https://localhost:8080/",
     "height": 211
    },
    "executionInfo": {
     "elapsed": 1631,
     "status": "error",
     "timestamp": 1712076054343,
     "user": {
      "displayName": "Veronica Kidwell",
      "userId": "02783450918390666233"
     },
     "user_tz": 240
    },
    "id": "EIB-O2f-UlNQ",
    "outputId": "b3dead3a-a399-4966-9c05-836cea02a74c"
   },
   "outputs": [
    {
     "ename": "FileNotFoundError",
     "evalue": "[Errno 2] No such file or directory: '/content/drive/My Drive/DT2_2023/Spring 2024/Audio_models/spectro_output/ TODO: enter your output folder here/class0'",
     "output_type": "error",
     "traceback": [
      "\u001b[0;31m---------------------------------------------------------------------------\u001b[0m",
      "\u001b[0;31mFileNotFoundError\u001b[0m                         Traceback (most recent call last)",
      "\u001b[0;32m<ipython-input-3-f24e75b72d53>\u001b[0m in \u001b[0;36m<cell line: 10>\u001b[0;34m()\u001b[0m\n\u001b[1;32m     10\u001b[0m \u001b[0;32mfor\u001b[0m \u001b[0mi\u001b[0m \u001b[0;32min\u001b[0m \u001b[0mrange\u001b[0m\u001b[0;34m(\u001b[0m\u001b[0;36m0\u001b[0m\u001b[0;34m,\u001b[0m \u001b[0;36m2\u001b[0m\u001b[0;34m)\u001b[0m\u001b[0;34m:\u001b[0m\u001b[0;34m\u001b[0m\u001b[0;34m\u001b[0m\u001b[0m\n\u001b[1;32m     11\u001b[0m   \u001b[0;32mif\u001b[0m \u001b[0;32mnot\u001b[0m \u001b[0mos\u001b[0m\u001b[0;34m.\u001b[0m\u001b[0mpath\u001b[0m\u001b[0;34m.\u001b[0m\u001b[0mexists\u001b[0m\u001b[0;34m(\u001b[0m\u001b[0mos\u001b[0m\u001b[0;34m.\u001b[0m\u001b[0mpath\u001b[0m\u001b[0;34m.\u001b[0m\u001b[0mjoin\u001b[0m\u001b[0;34m(\u001b[0m\u001b[0mOUTPUT_DIR\u001b[0m\u001b[0;34m,\u001b[0m \u001b[0;34m'class'\u001b[0m \u001b[0;34m+\u001b[0m \u001b[0mstr\u001b[0m\u001b[0;34m(\u001b[0m\u001b[0mi\u001b[0m\u001b[0;34m)\u001b[0m\u001b[0;34m)\u001b[0m\u001b[0;34m)\u001b[0m\u001b[0;34m:\u001b[0m\u001b[0;34m\u001b[0m\u001b[0;34m\u001b[0m\u001b[0m\n\u001b[0;32m---> 12\u001b[0;31m       \u001b[0mos\u001b[0m\u001b[0;34m.\u001b[0m\u001b[0mmkdir\u001b[0m\u001b[0;34m(\u001b[0m\u001b[0mos\u001b[0m\u001b[0;34m.\u001b[0m\u001b[0mpath\u001b[0m\u001b[0;34m.\u001b[0m\u001b[0mjoin\u001b[0m\u001b[0;34m(\u001b[0m\u001b[0mOUTPUT_DIR\u001b[0m\u001b[0;34m,\u001b[0m \u001b[0;34m'class'\u001b[0m \u001b[0;34m+\u001b[0m \u001b[0mstr\u001b[0m\u001b[0;34m(\u001b[0m\u001b[0mi\u001b[0m\u001b[0;34m)\u001b[0m\u001b[0;34m)\u001b[0m\u001b[0;34m)\u001b[0m\u001b[0;34m\u001b[0m\u001b[0;34m\u001b[0m\u001b[0m\n\u001b[0m\u001b[1;32m     13\u001b[0m \u001b[0;34m\u001b[0m\u001b[0m\n\u001b[1;32m     14\u001b[0m   \u001b[0mtemp_INPUT_DIR\u001b[0m \u001b[0;34m=\u001b[0m \u001b[0mINPUT_DIR\u001b[0m \u001b[0;34m+\u001b[0m \u001b[0;34m'/class'\u001b[0m \u001b[0;34m+\u001b[0m \u001b[0mstr\u001b[0m\u001b[0;34m(\u001b[0m\u001b[0mi\u001b[0m\u001b[0;34m)\u001b[0m\u001b[0;34m\u001b[0m\u001b[0;34m\u001b[0m\u001b[0m\n",
      "\u001b[0;31mFileNotFoundError\u001b[0m: [Errno 2] No such file or directory: '/content/drive/My Drive/DT2_2023/Spring 2024/Audio_models/spectro_output/ TODO: enter your output folder here/class0'"
     ]
    }
   ],
   "source": [
    "# Utility function to get sound and frame rate info\n",
    "def get_wav_info(wav_file):\n",
    "    wav = wave.open(wav_file, 'r')\n",
    "    frames = wav.readframes(-1)\n",
    "    sound_info = pylab.frombuffer(frames, 'int16')\n",
    "    frame_rate = wav.getframerate()\n",
    "    wav.close()\n",
    "    return sound_info, frame_rate\n",
    "\n",
    "for i in range(0, 2):\n",
    "  if not os.path.exists(os.path.join(OUTPUT_DIR, 'class_' + str(i))):\n",
    "      os.mkdir(os.path.join(OUTPUT_DIR, 'class_' + str(i)))\n",
    "\n",
    "  temp_INPUT_DIR = INPUT_DIR + '/class_' + str(i)\n",
    "\n",
    "  for filename in os.listdir(temp_INPUT_DIR):\n",
    "      if \"wav\" in filename:\n",
    "          file_path = os.path.join(temp_INPUT_DIR, filename)\n",
    "          file_stem = Path(file_path).stem\n",
    "          target_dir = f'class_{str(i)}'\n",
    "          dist_dir = os.path.join(OUTPUT_DIR, target_dir)\n",
    "          file_dist_path = os.path.join(dist_dir, file_stem)\n",
    "          if not os.path.exists(file_dist_path + '.png'):\n",
    "              if not os.path.exists(dist_dir):\n",
    "                  os.mkdir(dist_dir)\n",
    "              file_stem = Path(file_path).stem\n",
    "              sound_info, frame_rate = get_wav_info(file_path)\n",
    "              pylab.specgram(sound_info, Fs=frame_rate)\n",
    "              pylab.savefig(f'{file_dist_path}.png')\n",
    "              pylab.close()"
   ]
  }
 ],
 "metadata": {
  "colab": {
   "provenance": []
  },
  "kernelspec": {
   "display_name": "Python 3",
   "name": "python3"
  },
  "language_info": {
   "name": "python"
  }
 },
 "nbformat": 4,
 "nbformat_minor": 0
}
