{
 "cells": [
  {
   "cell_type": "code",
   "execution_count": 13,
   "metadata": {
    "executionInfo": {
     "elapsed": 5208,
     "status": "ok",
     "timestamp": 1713227493879,
     "user": {
      "displayName": "Veronica Kidwell",
      "userId": "02783450918390666233"
     },
     "user_tz": 240
    },
    "id": "FP32aC3LUjZM"
   },
   "outputs": [],
   "source": [
    "import numpy as np\n",
    "import pandas as pd\n",
    "import tensorflow as tf\n",
    "import matplotlib.pyplot as plt\n",
    "import os\n",
    "import wave\n",
    "import pylab\n",
    "from pathlib import Path\n",
    "from scipy import signal\n",
    "from scipy.io import wavfile\n",
    "from sklearn.metrics import confusion_matrix\n",
    "import itertools\n",
    "\n",
    "# Set paths to input and output data\n",
    "INPUT_DIR = 'C:/Users/veron/Documents/LactaLearn/DT2-Algos/mass_intersections_2/'\n",
    "OUTPUT_DIR = 'C:/Users/veron/Documents/LactaLearn/DT2-Algos/BRIGHT_1_mass_intersections_2_20240416/'"
   ]
  },
  {
   "cell_type": "code",
   "execution_count": 14,
   "metadata": {
    "colab": {
     "base_uri": "https://localhost:8080/"
    },
    "id": "EIB-O2f-UlNQ",
    "outputId": "b517bf88-d16e-4b13-db60-4ebc868f67b0"
   },
   "outputs": [
    {
     "name": "stdout",
     "output_type": "stream",
     "text": [
      "Number of audios in class 0: 1106\n",
      "Number of audios in class 1: 330\n"
     ]
    }
   ],
   "source": [
    "# Utility function to get sound and frame rate info\n",
    "def get_wav_info(wav_file):\n",
    "    if not os.path.exists(wav_file):\n",
    "      print(\"File\" + wav_file + \" not found.\")\n",
    "      return None, None\n",
    "    else:\n",
    "      wav = wave.open(wav_file, 'r')\n",
    "      frames = wav.readframes(-1)\n",
    "      sound_info = pylab.frombuffer(frames, 'int16')\n",
    "      frame_rate = wav.getframerate()\n",
    "      wav.close()\n",
    "      return sound_info, frame_rate\n",
    "\n",
    "for i in range(0, 2):\n",
    "  num_audios = 0\n",
    "  if not os.path.exists(os.path.join(OUTPUT_DIR, 'class_' + str(i))):\n",
    "      os.mkdir(os.path.join(OUTPUT_DIR, 'class_' + str(i)))\n",
    "\n",
    "  temp_INPUT_DIR = INPUT_DIR + '/class_' + str(i)\n",
    "\n",
    "\n",
    "  for filename in os.listdir(temp_INPUT_DIR):\n",
    "      if \"wav\" in filename:\n",
    "          file_path = os.path.join(temp_INPUT_DIR, filename)\n",
    "          file_stem = Path(file_path).stem\n",
    "          target_dir = f'class_{str(i)}'\n",
    "          dist_dir = os.path.join(OUTPUT_DIR, target_dir)\n",
    "          file_dist_path = os.path.join(dist_dir, file_stem)\n",
    "          if not os.path.exists(file_dist_path + '.png'):\n",
    "              if not os.path.exists(dist_dir):\n",
    "                  os.mkdir(dist_dir)\n",
    "              file_stem = Path(file_path).stem\n",
    "              sound_info, frame_rate = get_wav_info(file_path)\n",
    "              if not (sound_info is None and frame_rate is None):\n",
    "                pylab.specgram(sound_info, Fs=frame_rate, cmap='plasma')\n",
    "                pylab.savefig(f'{file_dist_path}.png')\n",
    "                pylab.close()\n",
    "                num_audios += 1\n",
    "  print(\"Number of audios in class \" + str(i) + \": \" + str(num_audios))"
   ]
  }
 ],
 "metadata": {
  "accelerator": "GPU",
  "colab": {
   "gpuType": "T4",
   "provenance": []
  },
  "kernelspec": {
   "display_name": "Python 3 (ipykernel)",
   "language": "python",
   "name": "python3"
  },
  "language_info": {
   "codemirror_mode": {
    "name": "ipython",
    "version": 3
   },
   "file_extension": ".py",
   "mimetype": "text/x-python",
   "name": "python",
   "nbconvert_exporter": "python",
   "pygments_lexer": "ipython3",
   "version": "3.8.18"
  }
 },
 "nbformat": 4,
 "nbformat_minor": 4
}
