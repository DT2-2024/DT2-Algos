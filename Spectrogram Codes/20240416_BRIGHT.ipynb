{
 "cells": [
  {
   "cell_type": "markdown",
   "metadata": {
    "id": "eD4yOvgBUwFB"
   },
   "source": [
    "DO NOT CHANGE THIS FILE. JUST MAKE COPIES."
   ]
  },
  {
   "cell_type": "code",
   "execution_count": 7,
   "metadata": {
    "id": "FP32aC3LUjZM"
   },
   "outputs": [],
   "source": [
    "import numpy as np\n",
    "import pandas as pd\n",
    "import tensorflow as tf\n",
    "import matplotlib.pyplot as plt\n",
    "import os\n",
    "import wave\n",
    "import pylab\n",
    "from pathlib import Path\n",
    "from scipy import signal\n",
    "from scipy.io import wavfile\n",
    "from sklearn.metrics import confusion_matrix\n",
    "import itertools\n",
    "from PIL import Image, ImageEnhance\n",
    "\n",
    "# Set paths to input and output data\n",
    "INPUT_DIR = 'C:/Users/veron/Documents/LactaLearn/DT2-Algos/mass_intersections_2/'\n",
    "OUTPUT_DIR = 'C:/Users/veron/Documents/LactaLearn/DT2-Algos/BRIGHT_2_mass_intersections_2_20240416/'"
   ]
  },
  {
   "cell_type": "code",
   "execution_count": 8,
   "metadata": {
    "colab": {
     "base_uri": "https://localhost:8080/",
     "height": 211
    },
    "executionInfo": {
     "elapsed": 1631,
     "status": "error",
     "timestamp": 1712076054343,
     "user": {
      "displayName": "Veronica Kidwell",
      "userId": "02783450918390666233"
     },
     "user_tz": 240
    },
    "id": "EIB-O2f-UlNQ",
    "outputId": "b3dead3a-a399-4966-9c05-836cea02a74c"
   },
   "outputs": [],
   "source": [
    "# Utility function to get sound and frame rate info\n",
    "def get_wav_info(wav_file):\n",
    "    wav = wave.open(wav_file, 'r')\n",
    "    frames = wav.readframes(-1)\n",
    "    sound_info = pylab.frombuffer(frames, 'int16')\n",
    "    frame_rate = wav.getframerate()\n",
    "    wav.close()\n",
    "    return sound_info, frame_rate\n",
    "\n",
    "for i in range(0, 2):\n",
    "  if not os.path.exists(os.path.join(OUTPUT_DIR, 'class_' + str(i))):\n",
    "      os.mkdir(os.path.join(OUTPUT_DIR, 'class_' + str(i)))\n",
    "\n",
    "  temp_INPUT_DIR = INPUT_DIR + '/class_' + str(i)\n",
    "\n",
    "  for filename in os.listdir(temp_INPUT_DIR):\n",
    "      if \"wav\" in filename:\n",
    "          file_path = os.path.join(temp_INPUT_DIR, filename)\n",
    "          file_stem = Path(file_path).stem\n",
    "          target_dir = f'class_{str(i)}'\n",
    "          dist_dir = os.path.join(OUTPUT_DIR, target_dir)\n",
    "          file_dist_path = os.path.join(dist_dir, file_stem)\n",
    "          if not os.path.exists(file_dist_path + '.png'):\n",
    "              if not os.path.exists(dist_dir):\n",
    "                  os.mkdir(dist_dir)\n",
    "              file_stem = Path(file_path).stem\n",
    "              sound_info, frame_rate = get_wav_info(file_path)\n",
    "              pylab.specgram(sound_info, Fs=frame_rate)\n",
    "              pylab.savefig(f'{file_dist_path}.png')\n",
    "\n",
    "              \n",
    "              img = Image.open(f'{file_dist_path}.png').convert(\"RGB\")\n",
    "              img_enhancer = ImageEnhance.Brightness(img)\n",
    "              enhanced_output = img_enhancer.enhance(0.5)\n",
    "              enhanced_output.save(f'{file_dist_path}.png')\n",
    "\n",
    "              pylab.close()"
   ]
  }
 ],
 "metadata": {
  "colab": {
   "provenance": []
  },
  "kernelspec": {
   "display_name": "Python 3 (ipykernel)",
   "language": "python",
   "name": "python3"
  },
  "language_info": {
   "codemirror_mode": {
    "name": "ipython",
    "version": 3
   },
   "file_extension": ".py",
   "mimetype": "text/x-python",
   "name": "python",
   "nbconvert_exporter": "python",
   "pygments_lexer": "ipython3",
   "version": "3.8.18"
  }
 },
 "nbformat": 4,
 "nbformat_minor": 4
}
